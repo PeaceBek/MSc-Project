{
 "cells": [
  {
   "cell_type": "markdown",
   "id": "4c64feb5-3046-4d74-8ef6-a76ce681f9cb",
   "metadata": {},
   "source": [
    "## 14th July 2025 \n",
    "### API Cbioportal Data Exploration\n",
    "### "
   ]
  },
  {
   "cell_type": "code",
   "execution_count": 7,
   "id": "a67b2166-3c0a-4c50-8bdf-58e2c59aa3be",
   "metadata": {},
   "outputs": [
    {
     "name": "stdout",
     "output_type": "stream",
     "text": [
      "Requirement already satisfied: biopython in c:\\users\\peace\\anaconda3\\lib\\site-packages (1.85)\n",
      "Requirement already satisfied: numpy in c:\\users\\peace\\anaconda3\\lib\\site-packages (from biopython) (1.26.4)\n"
     ]
    }
   ],
   "source": [
    "import pandas as pd #this is to manipulate the data\n",
    "import requests\n",
    "import pandas as pd\n",
    "!pip install biopython\n",
    "from Bio import Entrez\n",
    "import numpy as np\n",
    "from matplotlib import pyplot as plt\n",
    "import seaborn as sns\n"
   ]
  },
  {
   "cell_type": "code",
   "execution_count": 9,
   "id": "3c7f1729-1bd1-4c64-9144-e8f212ef3664",
   "metadata": {},
   "outputs": [
    {
     "name": "stdout",
     "output_type": "stream",
     "text": [
      " Found 494 samples in prad_tcga_pan_can_atlas_2018_all\n"
     ]
    }
   ],
   "source": [
    "BASE_URL = \"https://www.cbioportal.org/api\"            # Base for API request                \n",
    "HEADERS = {\"accept\": \"application/json\", \"Content-Type\": \"application/json\"}   #jsom formatted data\n",
    "\n",
    "study_id = \"prad_tcga_pan_can_atlas_2018\"                     #study identifier\n",
    "sample_list_id = \"prad_tcga_pan_can_atlas_2018_all\"           # list of sample identifier\n",
    "\n",
    "# GET SAMPLE ID\n",
    "samples_url = f\"{BASE_URL}/sample-lists/{sample_list_id}\"     #retrieve sample list \n",
    "samples_resp = requests.get(samples_url, headers=HEADERS)     #send request to the url\n",
    "samples_resp.raise_for_status()                               #checck if request is successful\n",
    "sample_ids = samples_resp.json().get(\"sampleIds\", [])         #extracts the sample ID\n",
    "print(f\" Found {len(sample_ids)} samples in {sample_list_id}\")"
   ]
  },
  {
   "cell_type": "code",
   "execution_count": 17,
   "id": "f428a530-86a1-45d6-b63c-1fcc796cc36c",
   "metadata": {},
   "outputs": [
    {
     "name": "stderr",
     "output_type": "stream",
     "text": [
      "C:\\Users\\peace\\anaconda3\\Lib\\site-packages\\Bio\\Entrez\\__init__.py:734: UserWarning: \n",
      "            Email address is not specified.\n",
      "\n",
      "            To make use of NCBI's E-utilities, NCBI requires you to specify your\n",
      "            email address with each request.  As an example, if your email address\n",
      "            is A.N.Other@example.com, you can specify it as follows:\n",
      "               from Bio import Entrez\n",
      "               Entrez.email = 'A.N.Other@example.com'\n",
      "            In case of excessive usage of the E-utilities, NCBI will attempt to contact\n",
      "            a user at the email address provided before blocking access to the\n",
      "            E-utilities.\n",
      "  warnings.warn(\n"
     ]
    },
    {
     "name": "stdout",
     "output_type": "stream",
     "text": [
      "Converted HUGO → Entrez IDs: {'EGFR': 1956, 'KRAS': 3845, 'HRAS': 3265, 'NRAS': 4893, 'ARAF': 369, 'BRAF': 673, 'RAF1': 5894, 'MAP2K1': 5604, 'MAP2K2': 5605, 'MAPK1': 5594, 'MAPK3': 5595, 'KSR1': 8844, 'KSR2': 22866}\n"
     ]
    }
   ],
   "source": [
    "# Converting HUGO → Entrez IDs via Bio-python\n",
    "def get_entrez_ids_biopython(hugo_list):    #define a function   \n",
    "    entrez_ids = {}                         #create empty dictionary to store\n",
    "    for gene in hugo_list:                  #iterate through the gene symbol list\n",
    "        handle = Entrez.esearch(db=\"gene\", term=f\"{gene}[Gene Name] AND Homo sapiens[Organism]\")   #search query against NCBI database\n",
    "        record = Entrez.read(handle)        #reads the search0\n",
    "        handle.close()                      #close ncbi connection\n",
    "        if record[\"IdList\"]:                # if an ID is found\n",
    "            entrez_ids[gene] = int(record[\"IdList\"][0])  convert the first one to an integer and store as entrez ID\n",
    "        else:\n",
    "            entrez_ids[gene] = None\n",
    "            print(f\"No match found for {gene}\")\n",
    "    return entrez_ids\n",
    "\n",
    "# MAPK pathway genes\n",
    "hugo_genes = [\n",
    "    \"EGFR\",\"KRAS\",\"HRAS\",\"NRAS\",\n",
    "    \"ARAF\",\"BRAF\",\"RAF1\",\n",
    "    \"MAP2K1\",\"MAP2K2\",\n",
    "    \"MAPK1\",\"MAPK3\",\n",
    "    \"KSR1\",\"KSR2\"\n",
    "]\n",
    "entrez_map = get_entrez_ids_biopython(hugo_genes)          #Call function\n",
    "entrez_ids = [eid for eid in entrez_map.values() if eid is not None]        \n",
    "print(\"Converted HUGO → Entrez IDs:\", entrez_map)\n",
    "\n",
    "\n"
   ]
  },
  {
   "cell_type": "code",
   "execution_count": 19,
   "id": "91a35af3-33fc-441f-b136-53c964534d1a",
   "metadata": {},
   "outputs": [
    {
     "name": "stdout",
     "output_type": "stream",
     "text": [
      "Retrieved 6357 rows from prad_tcga_pan_can_atlas_2018_log2CNA\n",
      "Saved cna_log2.csv\n",
      "Retrieved 6409 rows from prad_tcga_pan_can_atlas_2018_rna_seq_v2_mrna\n",
      "Saved mrna.csv\n",
      "Retrieved 6409 rows from prad_tcga_pan_can_atlas_2018_rna_seq_v2_mrna_median_all_sample_Zscores\n",
      "Saved mrna_zscores.csv\n",
      " Retrieved 2262 treatment timeline events\n",
      "Timeline columns: ['uniquePatientKey', 'studyId', 'patientId', 'eventType', 'attributes', 'startNumberOfDaysSinceDiagnosis', 'endNumberOfDaysSinceDiagnosis']\n",
      "Saved prad_tcga_pan_can_atlas_2018_treatment_timeline.csv\n",
      " Retrieved 8854 patients, 7 columns\n",
      " Clinical columns: ['uniqueSampleKey', 'uniquePatientKey', 'sampleId', 'patientId', 'studyId', 'clinicalAttributeId', 'value']\n",
      "Saved FULL prad_tcga_pan_can_atlas_2018_clinical_data.csv\n",
      "- cna_log2.csv\n",
      "- mrna.csv\n",
      "- mrna_zscores.csv\n",
      "- prad_tcga_pan_can_atlas_2018_treatment_timeline.csv\n",
      "- prad_tcga_pan_can_atlas_2018_clinical_data.csv\n"
     ]
    }
   ],
   "source": [
    "# ==== Molecular profiles ====\n",
    "molecular_profiles = {\n",
    "    \"cna_log2\": \"prad_tcga_pan_can_atlas_2018_log2CNA\",\n",
    "    \"mrna\": \"prad_tcga_pan_can_atlas_2018_rna_seq_v2_mrna\",\n",
    "    \"mrna_zscores\": \"prad_tcga_pan_can_atlas_2018_rna_seq_v2_mrna_median_all_sample_Zscores\"\n",
    "}\n",
    "#create a dictionary for  moleculat value.\n",
    "\n",
    "# Molecular data\n",
    "def fetch_molecular_data(profile_id, samples, entrez_ids):               #function to get molecular data\n",
    "    url = f\"{BASE_URL}/molecular-profiles/{profile_id}/molecular-data/fetch\"       #url for cBioportal API to get molecular data \n",
    "    payload = {\"entrezGeneIds\": entrez_ids, \"sampleIds\": samples}         #Dictionary to know ganes and samples i need data\n",
    "    resp = requests.post(url, headers=HEADERS, json=payload)              #Post requestfor the gene and sample ID\n",
    "    if resp.status_code == 200:\n",
    "        df = pd.DataFrame(resp.json())                                   #convert to a dataframe using pandas \n",
    "        print(f\"Retrieved {df.shape[0]} rows from {profile_id}\")          \n",
    "        return df\n",
    "    else:\n",
    "        print(f\" Error fetching {profile_id}: {resp.status_code}\")\n",
    "        print(resp.text)\n",
    "        return pd.DataFrame()\n",
    "\n",
    "molecular_dfs = {}                    #Create dictionary to store dataframe\n",
    "for name, profile_id in molecular_profiles.items():      # iterate through the name cna, mrna\n",
    "    df = fetch_molecular_data(profile_id, sample_ids, entrez_ids)\n",
    "    molecular_dfs[name] = df\n",
    "    if not df.empty:\n",
    "        df.to_csv(f\"{name}.csv\", index=False)\n",
    "        print(f\"Saved {name}.csv\")\n",
    "\n",
    "\n",
    "timeline_url = f\"{BASE_URL}/studies/{study_id}/clinical-events\"\n",
    "timeline_resp = requests.get(timeline_url, headers=HEADERS)\n",
    "if timeline_resp.status_code == 200:\n",
    "    df_timeline = pd.DataFrame(timeline_resp.json())\n",
    "    print(f\" Retrieved {df_timeline.shape[0]} treatment timeline events\")\n",
    "    print(\"Timeline columns:\", list(df_timeline.columns))\n",
    "    df_timeline.to_csv(f\"{study_id}_treatment_timeline.csv\", index=False)\n",
    "    print(f\"Saved {study_id}_treatment_timeline.csv\")\n",
    "else:\n",
    "    print(\"Error fetching timeline:\", timeline_resp.status_code, timeline_resp.text)\n",
    "\n",
    "\n",
    "clinical_url = f\"{BASE_URL}/studies/{study_id}/clinical-data\"\n",
    "clinical_resp = requests.get(clinical_url, headers=HEADERS)\n",
    "if clinical_resp.status_code == 200:\n",
    "    df_clinical = pd.DataFrame(clinical_resp.json())\n",
    "    print(f\" Retrieved {df_clinical.shape[0]} patients, {df_clinical.shape[1]} columns\")\n",
    "    print(\" Clinical columns:\", list(df_clinical.columns))\n",
    "    df_clinical.to_csv(f\"{study_id}_clinical_data.csv\", index=False)\n",
    "    print(f\"Saved FULL {study_id}_clinical_data.csv\")\n",
    "else:\n",
    "    print(\"Error fetching clinical data:\", clinical_resp.status_code, clinical_resp.text)\n",
    "\n",
    "print(\"- cna_log2.csv\")\n",
    "print(\"- mrna.csv\")\n",
    "print(\"- mrna_zscores.csv\")\n",
    "print(f\"- {study_id}_treatment_timeline.csv\")\n",
    "print(f\"- {study_id}_clinical_data.csv\")\n"
   ]
  },
  {
   "cell_type": "markdown",
   "id": "7179b3eb-cdc7-4f1e-83a3-bdbbbbbef5e7",
   "metadata": {},
   "source": [
    "## Identification of Gene and Treatment Data"
   ]
  },
  {
   "cell_type": "code",
   "execution_count": 24,
   "id": "32d36f5d-a055-4f5d-bc00-8fb79e7c2eed",
   "metadata": {},
   "outputs": [],
   "source": [
    "cna_df=pd.read_csv(\"cna_log2.csv\")\n",
    "mrna_df=pd.read_csv(\"mrna_zscores.csv\")\n",
    "clinical_df=pd.read_csv(\"prad_tcga_pan_can_atlas_2018_clinical_data.csv\")"
   ]
  },
  {
   "cell_type": "code",
   "execution_count": 26,
   "id": "1a6b30b4-5728-49f4-9f7c-f71e3b91ba1c",
   "metadata": {},
   "outputs": [
    {
     "name": "stdout",
     "output_type": "stream",
     "text": [
      "Loaded timeline shape: (2262, 7)\n",
      "Current columns: ['uniquePatientKey', 'studyId', 'patientId', 'eventType', 'attributes', 'startNumberOfDaysSinceDiagnosis', 'endNumberOfDaysSinceDiagnosis']\n"
     ]
    }
   ],
   "source": [
    "# Loading the  treatment timeline data\n",
    "treatment_df = pd.read_csv(\"prad_tcga_pan_can_atlas_2018_treatment_timeline.csv\")\n",
    "\n",
    "print(\"Loaded timeline shape:\", treatment_df.shape)\n",
    "print(\"Current columns:\", treatment_df.columns.tolist())\n"
   ]
  }
 ],
 "metadata": {
  "kernelspec": {
   "display_name": "Python [conda env:base] *",
   "language": "python",
   "name": "conda-base-py"
  },
  "language_info": {
   "codemirror_mode": {
    "name": "ipython",
    "version": 3
   },
   "file_extension": ".py",
   "mimetype": "text/x-python",
   "name": "python",
   "nbconvert_exporter": "python",
   "pygments_lexer": "ipython3",
   "version": "3.12.7"
  }
 },
 "nbformat": 4,
 "nbformat_minor": 5
}
