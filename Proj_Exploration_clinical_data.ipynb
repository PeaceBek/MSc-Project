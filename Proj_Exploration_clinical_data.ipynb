{
 "cells": [
  {
   "cell_type": "markdown",
   "id": "c9f82d81-231b-4060-a367-8797e5ab5154",
   "metadata": {},
   "source": [
    "# 8th June 2025\n",
    "## TCGA Prostate cancer \n",
    "## Data Exploration of \"data_clinical_patient\""
   ]
  },
  {
   "cell_type": "code",
   "execution_count": null,
   "id": "f0e9d462-0adc-465f-a21e-15dc5995aec4",
   "metadata": {},
   "outputs": [],
   "source": [
    "#install libraries\n",
    "#!pip install pandas scikit-learn numpy matplot"
   ]
  },
  {
   "cell_type": "code",
   "execution_count": 2,
   "id": "8ac4e041-76d4-4f86-9c06-fd1424ad78fa",
   "metadata": {},
   "outputs": [],
   "source": [
    "#import libraries\n",
    "#data handling\n",
    "import pandas as pd\n",
    "import numpy as np\n",
    "\n",
    "#data visualization\n",
    "import matplotlib.pyplot as plt\n",
    "import seaborn as sns\n",
    "\n",
    "#preprocessing\n",
    "from sklearn.model_selection import train_test_split\n",
    "from sklearn.preprocessing import StandardScaler\n",
    "from sklearn.preprocessing import LabelEncoder\n",
    "from sklearn.preprocessing import label_binarize\n",
    "\n",
    "#Feature selection\n",
    "from sklearn.feature_selection import mutual_info_classif\n",
    "\n",
    "#Classification\n",
    "from sklearn.multiclass import OneVsRestClassifier\n",
    "from sklearn.ensemble import RandomForestClassifier\n",
    "\n",
    "#performance metrics \n",
    "from sklearn.metrics import balanced_accuracy_score,f1_score,precision_score, recall_score\n",
    "from sklearn.metrics import roc_auc_score\n",
    "from sklearn.metrics import roc_curve,auc\n",
    "from sklearn.metrics import classification_report\n",
    "from sklearn.metrics import confusion_matrix\n",
    "\n"
   ]
  },
  {
   "cell_type": "code",
   "execution_count": 27,
   "id": "5c4f99cb-679e-47bf-ae7d-922ef4db56c5",
   "metadata": {},
   "outputs": [],
   "source": [
    "# Read the Data\n",
    "file_path = r'C:\\Users\\peace\\OneDrive\\Desktop\\data_clinical_patient.txt'\n",
    "dataframe = pd.read_csv(file_path, sep=\"\\t\", comment=\"#\", low_memory=False)"
   ]
  },
  {
   "cell_type": "code",
   "execution_count": 29,
   "id": "b32643df-9f03-4ce8-9ed6-e1983daed4ab",
   "metadata": {},
   "outputs": [
    {
     "name": "stdout",
     "output_type": "stream",
     "text": [
      "(494, 38)\n"
     ]
    }
   ],
   "source": [
    "#Data Exploration & Cleaning\n",
    "#number of sample & Features\n",
    "print(dataframe.shape)"
   ]
  },
  {
   "cell_type": "code",
   "execution_count": 37,
   "id": "0caa9607-f72b-404b-aa37-b99f07bf3a6d",
   "metadata": {},
   "outputs": [
    {
     "name": "stdout",
     "output_type": "stream",
     "text": [
      "Index(['PATIENT_ID', 'SUBTYPE', 'CANCER_TYPE_ACRONYM'], dtype='object')\n"
     ]
    }
   ],
   "source": [
    "#check column names\n",
    "print(dataframe.columns[0:3])\n"
   ]
  },
  {
   "cell_type": "code",
   "execution_count": 39,
   "id": "10507624-c04f-4692-8f4c-be3dbfa653aa",
   "metadata": {},
   "outputs": [
    {
     "name": "stdout",
     "output_type": "stream",
     "text": [
      "     PATIENT_ID SUBTYPE CANCER_TYPE_ACRONYM  \\\n",
      "0  TCGA-2A-A8VL    PRAD                PRAD   \n",
      "1  TCGA-2A-A8VO    PRAD                PRAD   \n",
      "2  TCGA-2A-A8VT    PRAD                PRAD   \n",
      "3  TCGA-2A-A8VV    PRAD                PRAD   \n",
      "4  TCGA-2A-A8VX    PRAD                PRAD   \n",
      "\n",
      "                       OTHER_PATIENT_ID  AGE   SEX  \\\n",
      "0  49197847-CC83-4CE1-8397-D09CEA4C4928   51  Male   \n",
      "1  91C0D161-2B59-4B7A-8C19-6D26DEA31849   57  Male   \n",
      "2  931B549F-B9F2-4E8D-83ED-FF663671883C   47  Male   \n",
      "3  75A7AFB5-66D5-47E3-8A8A-3E3A1E749A96   52  Male   \n",
      "4  942F1788-D977-4AC0-A177-659F9D4CD077   70  Male   \n",
      "\n",
      "   AJCC_PATHOLOGIC_TUMOR_STAGE  AJCC_STAGING_EDITION  DAYS_LAST_FOLLOWUP  \\\n",
      "0                          NaN                   NaN               621.0   \n",
      "1                          NaN                   NaN              1701.0   \n",
      "2                          NaN                   NaN              1373.0   \n",
      "3                          NaN                   NaN               671.0   \n",
      "4                          NaN                   NaN              1378.0   \n",
      "\n",
      "   DAYS_TO_BIRTH  ...  IN_PANCANPATHWAYS_FREEZE OS_STATUS  OS_MONTHS  \\\n",
      "0       -18658.0  ...                       Yes  0:LIVING  20.416215   \n",
      "1       -20958.0  ...                       Yes  0:LIVING  55.922675   \n",
      "2       -17365.0  ...                       Yes  0:LIVING  45.139231   \n",
      "3       -19065.0  ...                       Yes  0:LIVING  22.060032   \n",
      "4       -25904.0  ...                       Yes  0:LIVING  45.303613   \n",
      "\n",
      "                   DSS_STATUS DSS_MONTHS DFS_STATUS DFS_MONTHS  PFS_STATUS  \\\n",
      "0  0:ALIVE OR DEAD TUMOR FREE  20.416215        NaN        NaN  0:CENSORED   \n",
      "1  0:ALIVE OR DEAD TUMOR FREE  55.922675        NaN        NaN  0:CENSORED   \n",
      "2  0:ALIVE OR DEAD TUMOR FREE  45.139231        NaN        NaN  0:CENSORED   \n",
      "3  0:ALIVE OR DEAD TUMOR FREE  22.060032        NaN        NaN  0:CENSORED   \n",
      "4  0:ALIVE OR DEAD TUMOR FREE  45.303613        NaN        NaN  0:CENSORED   \n",
      "\n",
      "  PFS_MONTHS  GENETIC_ANCESTRY_LABEL  \n",
      "0  20.416215                          \n",
      "1  55.922675                     EUR  \n",
      "2  45.139231               SAS_ADMIX  \n",
      "3  22.060032                   ADMIX  \n",
      "4  45.303613                     EUR  \n",
      "\n",
      "[5 rows x 38 columns]\n"
     ]
    }
   ],
   "source": [
    "#show first rows\n",
    "print(dataframe.head())"
   ]
  },
  {
   "cell_type": "code",
   "execution_count": 41,
   "id": "847ffcf4-190e-4d22-b937-a8a793a431da",
   "metadata": {},
   "outputs": [
    {
     "data": {
      "text/plain": [
       "'GENETIC_ANCESTRY_LABEL'"
      ]
     },
     "execution_count": 41,
     "metadata": {},
     "output_type": "execute_result"
    }
   ],
   "source": [
    "#check name of last column\n",
    "dataframe.columns[-1]"
   ]
  },
  {
   "cell_type": "code",
   "execution_count": 47,
   "id": "43e7a077-5ac7-4d69-b0e1-fdb02d33e5ab",
   "metadata": {},
   "outputs": [
    {
     "name": "stdout",
     "output_type": "stream",
     "text": [
      "columns with missing values:19\n"
     ]
    }
   ],
   "source": [
    "#check missing values \n",
    "datanul=dataframe.isnull().sum()\n",
    "g=[i for i in datanul if i>0]\n",
    "print('columns with missing values:%d'%len(g))"
   ]
  },
  {
   "cell_type": "code",
   "execution_count": 69,
   "id": "fbfb075a-286e-4200-8b7d-3e3b76004e15",
   "metadata": {},
   "outputs": [],
   "source": [
    "#Data Preprocessing\n",
    "x=dataframe.iloc[:,[1,5,7,12,19,20,21,22,27,28]]\n"
   ]
  },
  {
   "cell_type": "code",
   "execution_count": 71,
   "id": "d1e9b6f1-5921-4ddd-bd8e-d6942c339645",
   "metadata": {},
   "outputs": [
    {
     "data": {
      "text/plain": [
       "(494, 10)"
      ]
     },
     "execution_count": 71,
     "metadata": {},
     "output_type": "execute_result"
    }
   ],
   "source": [
    "x.shape"
   ]
  },
  {
   "cell_type": "code",
   "execution_count": 73,
   "id": "c8e367fd-7c4f-43b5-927e-927fb8e373d9",
   "metadata": {},
   "outputs": [
    {
     "name": "stdout",
     "output_type": "stream",
     "text": [
      "  SUBTYPE   SEX  AJCC_STAGING_EDITION FORM_COMPLETION_DATE  PATH_M_STAGE  \\\n",
      "0    PRAD  Male                   NaN              3/29/14           NaN   \n",
      "1    PRAD  Male                   NaN              3/30/14           NaN   \n",
      "2    PRAD  Male                   NaN              3/29/14           NaN   \n",
      "3    PRAD  Male                   NaN              3/29/14           NaN   \n",
      "4    PRAD  Male                   NaN              3/29/14           NaN   \n",
      "\n",
      "  PATH_N_STAGE PATH_T_STAGE PERSON_NEOPLASM_CANCER_STATUS  WEIGHT  \\\n",
      "0           N0          T2B                    Tumor Free     NaN   \n",
      "1          NaN          T3A                    Tumor Free     NaN   \n",
      "2           N1           T4                    Tumor Free     NaN   \n",
      "3           N0          T2B                    Tumor Free     NaN   \n",
      "4           N0          T3B                    Tumor Free     NaN   \n",
      "\n",
      "  IN_PANCANPATHWAYS_FREEZE  \n",
      "0                      Yes  \n",
      "1                      Yes  \n",
      "2                      Yes  \n",
      "3                      Yes  \n",
      "4                      Yes  \n"
     ]
    }
   ],
   "source": [
    "print(x.head())"
   ]
  },
  {
   "cell_type": "code",
   "execution_count": 2,
   "id": "f67576e1-6960-4ee0-9f6f-5d7dd2e030d2",
   "metadata": {},
   "outputs": [
    {
     "ename": "NameError",
     "evalue": "name 'x' is not defined",
     "output_type": "error",
     "traceback": [
      "\u001b[1;31m---------------------------------------------------------------------------\u001b[0m",
      "\u001b[1;31mNameError\u001b[0m                                 Traceback (most recent call last)",
      "Cell \u001b[1;32mIn[2], line 1\u001b[0m\n\u001b[1;32m----> 1\u001b[0m \u001b[38;5;28mprint\u001b[39m(x\u001b[38;5;241m.\u001b[39mhead())\n",
      "\u001b[1;31mNameError\u001b[0m: name 'x' is not defined"
     ]
    }
   ],
   "source": [
    "print(x.head())"
   ]
  }
 ],
 "metadata": {
  "kernelspec": {
   "display_name": "Python [conda env:base] *",
   "language": "python",
   "name": "conda-base-py"
  },
  "language_info": {
   "codemirror_mode": {
    "name": "ipython",
    "version": 3
   },
   "file_extension": ".py",
   "mimetype": "text/x-python",
   "name": "python",
   "nbconvert_exporter": "python",
   "pygments_lexer": "ipython3",
   "version": "3.12.7"
  }
 },
 "nbformat": 4,
 "nbformat_minor": 5
}
